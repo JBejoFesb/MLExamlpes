{
 "cells": [
  {
   "cell_type": "code",
   "execution_count": 125,
   "metadata": {},
   "outputs": [
    {
     "name": "stdout",
     "output_type": "stream",
     "text": [
      "(7, 4, 0)\n",
      "((17, 4, 0), 0.0, False, False, {})\n",
      "((17, 4, 0), -1.0, True, False, {})\n",
      "0\n",
      "1\n",
      "(13, 4, 0)\n",
      "((15, 4, 0), 0.0, False, False, {})\n",
      "((21, 4, 0), 0.0, False, False, {})\n",
      "((21, 4, 0), 1.0, True, False, {})\n",
      "1\n",
      "1\n",
      "(15, 7, 0)\n",
      "((21, 7, 0), 0.0, False, False, {})\n",
      "((30, 7, 0), -1.0, True, False, {})\n",
      "1\n",
      "2\n",
      "(17, 8, 0)\n",
      "((26, 8, 0), -1.0, True, False, {})\n",
      "1\n",
      "3\n",
      "(7, 6, 0)\n",
      "((18, 6, 1), 0.0, False, False, {})\n",
      "((13, 6, 0), 0.0, False, False, {})\n",
      "((20, 6, 0), 0.0, False, False, {})\n",
      "((29, 6, 0), -1.0, True, False, {})\n",
      "1\n",
      "4\n",
      "(20, 10, 0)\n",
      "((22, 10, 0), -1.0, True, False, {})\n",
      "1\n",
      "5\n",
      "(16, 10, 0)\n",
      "((18, 10, 0), 0.0, False, False, {})\n",
      "((28, 10, 0), -1.0, True, False, {})\n",
      "1\n",
      "6\n",
      "(19, 2, 0)\n",
      "((19, 2, 0), 0.0, True, False, {})\n",
      "1\n",
      "7\n",
      "(18, 9, 0)\n",
      "((21, 9, 0), 0.0, False, False, {})\n",
      "((24, 9, 0), -1.0, True, False, {})\n",
      "1\n",
      "8\n"
     ]
    },
    {
     "ename": "KeyboardInterrupt",
     "evalue": "",
     "output_type": "error",
     "traceback": [
      "\u001b[1;31m---------------------------------------------------------------------------\u001b[0m",
      "\u001b[1;31mKeyboardInterrupt\u001b[0m                         Traceback (most recent call last)",
      "Cell \u001b[1;32mIn[125], line 9\u001b[0m\n\u001b[0;32m      6\u001b[0m i\u001b[39m=\u001b[39m\u001b[39m0\u001b[39m\n\u001b[0;32m      8\u001b[0m \u001b[39mwhile\u001b[39;00m(i\u001b[39m<\u001b[39m\u001b[39m100\u001b[39m):\n\u001b[1;32m----> 9\u001b[0m     o\u001b[39m=\u001b[39menv\u001b[39m.\u001b[39;49mreset()\n\u001b[0;32m     10\u001b[0m     \u001b[39mprint\u001b[39m(o[\u001b[39m0\u001b[39m])\n\u001b[0;32m     11\u001b[0m     \u001b[39mwhile\u001b[39;00m \u001b[39mTrue\u001b[39;00m: \n",
      "File \u001b[1;32mc:\\Users\\A507\\Documents\\JIP\\labs\\Lib\\site-packages\\gymnasium\\wrappers\\order_enforcing.py:61\u001b[0m, in \u001b[0;36mOrderEnforcing.reset\u001b[1;34m(self, **kwargs)\u001b[0m\n\u001b[0;32m     59\u001b[0m \u001b[39m\u001b[39m\u001b[39m\"\"\"Resets the environment with `kwargs`.\"\"\"\u001b[39;00m\n\u001b[0;32m     60\u001b[0m \u001b[39mself\u001b[39m\u001b[39m.\u001b[39m_has_reset \u001b[39m=\u001b[39m \u001b[39mTrue\u001b[39;00m\n\u001b[1;32m---> 61\u001b[0m \u001b[39mreturn\u001b[39;00m \u001b[39mself\u001b[39;49m\u001b[39m.\u001b[39;49menv\u001b[39m.\u001b[39;49mreset(\u001b[39m*\u001b[39;49m\u001b[39m*\u001b[39;49mkwargs)\n",
      "File \u001b[1;32mc:\\Users\\A507\\Documents\\JIP\\labs\\Lib\\site-packages\\gymnasium\\wrappers\\env_checker.py:59\u001b[0m, in \u001b[0;36mPassiveEnvChecker.reset\u001b[1;34m(self, **kwargs)\u001b[0m\n\u001b[0;32m     57\u001b[0m     \u001b[39mreturn\u001b[39;00m env_reset_passive_checker(\u001b[39mself\u001b[39m\u001b[39m.\u001b[39menv, \u001b[39m*\u001b[39m\u001b[39m*\u001b[39mkwargs)\n\u001b[0;32m     58\u001b[0m \u001b[39melse\u001b[39;00m:\n\u001b[1;32m---> 59\u001b[0m     \u001b[39mreturn\u001b[39;00m \u001b[39mself\u001b[39;49m\u001b[39m.\u001b[39;49menv\u001b[39m.\u001b[39;49mreset(\u001b[39m*\u001b[39;49m\u001b[39m*\u001b[39;49mkwargs)\n",
      "File \u001b[1;32mc:\\Users\\A507\\Documents\\JIP\\labs\\Lib\\site-packages\\gymnasium\\envs\\toy_text\\blackjack.py:223\u001b[0m, in \u001b[0;36mBlackjackEnv.reset\u001b[1;34m(self, seed, options)\u001b[0m\n\u001b[0;32m    220\u001b[0m     \u001b[39mself\u001b[39m\u001b[39m.\u001b[39mdealer_top_card_value_str \u001b[39m=\u001b[39m \u001b[39mstr\u001b[39m(dealer_card_value)\n\u001b[0;32m    222\u001b[0m \u001b[39mif\u001b[39;00m \u001b[39mself\u001b[39m\u001b[39m.\u001b[39mrender_mode \u001b[39m==\u001b[39m \u001b[39m\"\u001b[39m\u001b[39mhuman\u001b[39m\u001b[39m\"\u001b[39m:\n\u001b[1;32m--> 223\u001b[0m     \u001b[39mself\u001b[39;49m\u001b[39m.\u001b[39;49mrender()\n\u001b[0;32m    224\u001b[0m \u001b[39mreturn\u001b[39;00m \u001b[39mself\u001b[39m\u001b[39m.\u001b[39m_get_obs(), {}\n",
      "File \u001b[1;32mc:\\Users\\A507\\Documents\\JIP\\labs\\Lib\\site-packages\\gymnasium\\envs\\toy_text\\blackjack.py:339\u001b[0m, in \u001b[0;36mBlackjackEnv.render\u001b[1;34m(self)\u001b[0m\n\u001b[0;32m    337\u001b[0m     pygame\u001b[39m.\u001b[39mevent\u001b[39m.\u001b[39mpump()\n\u001b[0;32m    338\u001b[0m     pygame\u001b[39m.\u001b[39mdisplay\u001b[39m.\u001b[39mupdate()\n\u001b[1;32m--> 339\u001b[0m     \u001b[39mself\u001b[39;49m\u001b[39m.\u001b[39;49mclock\u001b[39m.\u001b[39;49mtick(\u001b[39mself\u001b[39;49m\u001b[39m.\u001b[39;49mmetadata[\u001b[39m\"\u001b[39;49m\u001b[39mrender_fps\u001b[39;49m\u001b[39m\"\u001b[39;49m])\n\u001b[0;32m    340\u001b[0m \u001b[39melse\u001b[39;00m:\n\u001b[0;32m    341\u001b[0m     \u001b[39mreturn\u001b[39;00m np\u001b[39m.\u001b[39mtranspose(\n\u001b[0;32m    342\u001b[0m         np\u001b[39m.\u001b[39marray(pygame\u001b[39m.\u001b[39msurfarray\u001b[39m.\u001b[39mpixels3d(\u001b[39mself\u001b[39m\u001b[39m.\u001b[39mscreen)), axes\u001b[39m=\u001b[39m(\u001b[39m1\u001b[39m, \u001b[39m0\u001b[39m, \u001b[39m2\u001b[39m)\n\u001b[0;32m    343\u001b[0m     )\n",
      "\u001b[1;31mKeyboardInterrupt\u001b[0m: "
     ]
    }
   ],
   "source": [
    "import gymnasium as gym\n",
    "env = gym.make(\"Blackjack-v1\", sab=True, render_mode=\"human\")\n",
    "\n",
    "w=0\n",
    "l=0\n",
    "i=0\n",
    "\n",
    "while(i<100):\n",
    "    o=env.reset()\n",
    "    print(o[0])\n",
    "    while True: \n",
    "        if o[0][0] > 16 and o[0][1] < 5:\n",
    "            o=env.step(0)\n",
    "            print(o)\n",
    "            if o[2] == True:\n",
    "                if o[1] == 1:\n",
    "                    w = w+1\n",
    "                else: \n",
    "                    l = l+1\n",
    "                break\n",
    "        else:\n",
    "            o=env.step(1)\n",
    "            print(o)\n",
    "            if o[2] == True:\n",
    "                if o[1] == 1:\n",
    "                    w = w+1\n",
    "                else: \n",
    "                    l = l+1\n",
    "                break\n",
    "    i = i+1\n",
    "    print(w)\n",
    "    print(l)"
   ]
  }
 ],
 "metadata": {
  "kernelspec": {
   "display_name": "labs",
   "language": "python",
   "name": "python3"
  },
  "language_info": {
   "codemirror_mode": {
    "name": "ipython",
    "version": 3
   },
   "file_extension": ".py",
   "mimetype": "text/x-python",
   "name": "python",
   "nbconvert_exporter": "python",
   "pygments_lexer": "ipython3",
   "version": "3.11.2"
  },
  "orig_nbformat": 4
 },
 "nbformat": 4,
 "nbformat_minor": 2
}
